{
 "cells": [
  {
   "cell_type": "markdown",
   "id": "6a8a7da5-b972-4674-9522-f8f1b5ba791b",
   "metadata": {},
   "source": [
    "### python data structures and Boolean\n",
    "1. Boolean\n",
    "2. Boolean and Logical operators\n",
    "3. Lists\n",
    "4. Comparison operators\n",
    "5. Dictionaries\n",
    "6. Tuples\n",
    "7. Sets\n",
    "\n"
   ]
  },
  {
   "cell_type": "code",
   "execution_count": 1,
   "id": "e4157016-8d20-4934-a5d5-333049ac3dc1",
   "metadata": {},
   "outputs": [
    {
     "data": {
      "text/plain": [
       "False"
      ]
     },
     "execution_count": 1,
     "metadata": {},
     "output_type": "execute_result"
    }
   ],
   "source": [
    "False\n"
   ]
  },
  {
   "cell_type": "code",
   "execution_count": 2,
   "id": "6a56ec26-fa39-4a91-9adf-120d2f853483",
   "metadata": {},
   "outputs": [
    {
     "name": "stdout",
     "output_type": "stream",
     "text": [
      "True False\n"
     ]
    }
   ],
   "source": [
    "print(True, False)"
   ]
  },
  {
   "cell_type": "code",
   "execution_count": 3,
   "id": "6e24a850-0b0f-4e7a-8c88-100b1f111dc7",
   "metadata": {},
   "outputs": [
    {
     "data": {
      "text/plain": [
       "bool"
      ]
     },
     "execution_count": 3,
     "metadata": {},
     "output_type": "execute_result"
    }
   ],
   "source": [
    "type(True)"
   ]
  },
  {
   "cell_type": "code",
   "execution_count": 60,
   "id": "c1c38deb-b2df-493d-83d9-9e15fcf93392",
   "metadata": {},
   "outputs": [],
   "source": [
    "# my_str = \"rakibratul1117459\"\n",
    "my_str = \"RAKIB\"\n",
    "# my_str = \"rakib ratulk\""
   ]
  },
  {
   "cell_type": "code",
   "execution_count": 61,
   "id": "51e347fa-ea29-4706-9521-9bddcfb3341f",
   "metadata": {},
   "outputs": [
    {
     "data": {
      "text/plain": [
       "False"
      ]
     },
     "execution_count": 61,
     "metadata": {},
     "output_type": "execute_result"
    }
   ],
   "source": [
    "my_str.istitle()"
   ]
  },
  {
   "cell_type": "code",
   "execution_count": 62,
   "id": "f59b616f-059a-4018-a228-58c1f858471e",
   "metadata": {},
   "outputs": [
    {
     "name": "stdout",
     "output_type": "stream",
     "text": [
      "True\n",
      "True\n",
      "False\n",
      "False\n",
      "True\n",
      "False\n",
      "False\n",
      "False\n",
      "False\n"
     ]
    }
   ],
   "source": [
    "print(my_str.isalnum()) #check if all char are numbers inside of string\n",
    "print(my_str.isalpha()) #check if all char in the string are alphabetic\n",
    "print(my_str.isdigit()) #test if string contains digits\n",
    "print(my_str.istitle()) #test if string contains title words\n",
    "print(my_str.isupper()) #test if string contains upper case\n",
    "print(my_str.islower()) #test if string contains lower case\n",
    "print(my_str.isspace()) #test if string contains spaces\n",
    "print(my_str.endswith('k')) #test if string endswith a d\n",
    "print(my_str.startswith('K')) #test if string startswith H\n"
   ]
  },
  {
   "cell_type": "markdown",
   "id": "1dc7a496-3413-4421-a7ee-a6563630a15a",
   "metadata": {},
   "source": [
    "### Boolean and Logical Operators"
   ]
  },
  {
   "cell_type": "code",
   "execution_count": 45,
   "id": "8b566b22-f51f-4e8f-b9c2-20861e769810",
   "metadata": {},
   "outputs": [
    {
     "data": {
      "text/plain": [
       "True"
      ]
     },
     "execution_count": 45,
     "metadata": {},
     "output_type": "execute_result"
    }
   ],
   "source": [
    "True and True"
   ]
  },
  {
   "cell_type": "code",
   "execution_count": 46,
   "id": "cd0d11ae-669e-415f-b389-8974dc54d9d8",
   "metadata": {},
   "outputs": [
    {
     "data": {
      "text/plain": [
       "False"
      ]
     },
     "execution_count": 46,
     "metadata": {},
     "output_type": "execute_result"
    }
   ],
   "source": [
    "True and False"
   ]
  },
  {
   "cell_type": "code",
   "execution_count": 47,
   "id": "3399f74c-2cf4-42ba-84fe-1c274ea95033",
   "metadata": {},
   "outputs": [
    {
     "data": {
      "text/plain": [
       "True"
      ]
     },
     "execution_count": 47,
     "metadata": {},
     "output_type": "execute_result"
    }
   ],
   "source": [
    "True or False"
   ]
  },
  {
   "cell_type": "code",
   "execution_count": 78,
   "id": "701914f6-1908-4ff9-88a7-d2ccbdb8e013",
   "metadata": {},
   "outputs": [],
   "source": [
    "str_example= \"Hello World123\"\n",
    "my_str= \"Krish\""
   ]
  },
  {
   "cell_type": "code",
   "execution_count": 80,
   "id": "96d32db7-bb55-4859-aede-0d10a9a20377",
   "metadata": {},
   "outputs": [
    {
     "data": {
      "text/plain": [
       "True"
      ]
     },
     "execution_count": 80,
     "metadata": {},
     "output_type": "execute_result"
    }
   ],
   "source": [
    "my_str.isalpha() or str_example.isnum()"
   ]
  },
  {
   "cell_type": "markdown",
   "id": "7ab20e67-35c0-40d5-9ab7-7411e6792981",
   "metadata": {},
   "source": [
    "## Lists"
   ]
  },
  {
   "cell_type": "markdown",
   "id": "375b08f1-5293-41e9-a8d3-21cc3b5dafe4",
   "metadata": {},
   "source": [
    "A list is a data structure in Python that is a mutable, or changeable, ordered sequence of elements. Each element or value that is inside of a list is called an item. Just as strings are defined as characters between quotes, lists are defined by having values between square brackets [ ]"
   ]
  },
  {
   "cell_type": "code",
   "execution_count": 81,
   "id": "2307385d-54d6-4fdd-8398-aecf967e51fd",
   "metadata": {},
   "outputs": [
    {
     "name": "stdout",
     "output_type": "stream",
     "text": [
      "Krish\n"
     ]
    },
    {
     "data": {
      "text/plain": [
       "str"
      ]
     },
     "execution_count": 81,
     "metadata": {},
     "output_type": "execute_result"
    }
   ],
   "source": [
    "str1= \"Krish\"\n",
    "print(str1)\n",
    "type(str1)"
   ]
  },
  {
   "cell_type": "code",
   "execution_count": 82,
   "id": "23287d2f-c53e-4a1d-8bcf-939cd0ff8908",
   "metadata": {},
   "outputs": [
    {
     "name": "stdout",
     "output_type": "stream",
     "text": [
      "Ratul\n"
     ]
    }
   ],
   "source": [
    "str1= \"Ratul\"\n",
    "print(str1)"
   ]
  },
  {
   "cell_type": "code",
   "execution_count": 83,
   "id": "6fd445bd-74d2-44a1-8b35-773e45e1771f",
   "metadata": {},
   "outputs": [
    {
     "ename": "TypeError",
     "evalue": "'str' object does not support item assignment",
     "output_type": "error",
     "traceback": [
      "\u001b[1;31m---------------------------------------------------------------------------\u001b[0m",
      "\u001b[1;31mTypeError\u001b[0m                                 Traceback (most recent call last)",
      "Cell \u001b[1;32mIn[83], line 2\u001b[0m\n\u001b[0;32m      1\u001b[0m \u001b[38;5;66;03m### string are immutable \u001b[39;00m\n\u001b[1;32m----> 2\u001b[0m str1[\u001b[38;5;241m2\u001b[39m]\u001b[38;5;241m=\u001b[39m \u001b[38;5;124m\"\u001b[39m\u001b[38;5;124mjk\u001b[39m\u001b[38;5;124m\"\u001b[39m\n",
      "\u001b[1;31mTypeError\u001b[0m: 'str' object does not support item assignment"
     ]
    }
   ],
   "source": [
    "### string are immutable \n",
    "str1[2]= \"jk\""
   ]
  },
  {
   "cell_type": "code",
   "execution_count": 96,
   "id": "c7cfa061-efc2-4e93-a76f-0532e2eff4a4",
   "metadata": {},
   "outputs": [
    {
     "name": "stdout",
     "output_type": "stream",
     "text": [
      "[1, 2, 3, 4, 'Krish', 'hello']\n",
      "Naik\n"
     ]
    },
    {
     "data": {
      "text/plain": [
       "[1, 2, 3, 4, 'Naik', 'hello']"
      ]
     },
     "execution_count": 96,
     "metadata": {},
     "output_type": "execute_result"
    }
   ],
   "source": [
    "# Lists\n",
    "## mutable\n",
    "lst= [1, 2, 3, 4, \"Krish\", \"hello\"]\n",
    "print(lst)\n",
    "lst[4]= \"Naik\"\n",
    "print(lst[4])\n",
    "lst"
   ]
  },
  {
   "cell_type": "code",
   "execution_count": 100,
   "id": "ba8d8010-ef89-4ccf-9953-ee090953ddfc",
   "metadata": {},
   "outputs": [
    {
     "name": "stdout",
     "output_type": "stream",
     "text": [
      "<class 'list'>\n",
      "[1, 2, 3, 4, 5]\n"
     ]
    }
   ],
   "source": [
    "lstbui= list((1, 2, 3, 4, 5))\n",
    "print(type(lst))\n",
    "print(lst)"
   ]
  },
  {
   "cell_type": "code",
   "execution_count": 101,
   "id": "23660151-08a1-4c93-b55d-eaa027c27a4b",
   "metadata": {},
   "outputs": [],
   "source": [
    "lstbui[2]= \"Naik\" "
   ]
  },
  {
   "cell_type": "code",
   "execution_count": 102,
   "id": "1384b738-cd9e-4196-a518-25861e699b9c",
   "metadata": {},
   "outputs": [
    {
     "data": {
      "text/plain": [
       "[1, 2, 'Naik', 4, 5]"
      ]
     },
     "execution_count": 102,
     "metadata": {},
     "output_type": "execute_result"
    }
   ],
   "source": [
    "lstbui"
   ]
  },
  {
   "cell_type": "code",
   "execution_count": 91,
   "id": "81785ce5-5dcc-4b41-9ef2-7c2595525ba3",
   "metadata": {},
   "outputs": [],
   "source": [
    "lst= [1, 2, 3, 4, 5]"
   ]
  },
  {
   "cell_type": "code",
   "execution_count": 92,
   "id": "2aa485f1-d370-42bc-b588-b989886bd201",
   "metadata": {},
   "outputs": [
    {
     "name": "stdout",
     "output_type": "stream",
     "text": [
      "1\n",
      "4\n",
      "9\n",
      "16\n",
      "25\n"
     ]
    }
   ],
   "source": [
    "for i in lst:\n",
    "    print(i ** 2)"
   ]
  },
  {
   "cell_type": "code",
   "execution_count": 93,
   "id": "f9f6bf44-e6a6-43bf-b81c-ce0d2191760c",
   "metadata": {},
   "outputs": [
    {
     "data": {
      "text/plain": [
       "1"
      ]
     },
     "execution_count": 93,
     "metadata": {},
     "output_type": "execute_result"
    }
   ],
   "source": [
    "min(lst)"
   ]
  },
  {
   "cell_type": "code",
   "execution_count": 94,
   "id": "c2f58bff-a0fd-4512-99a0-38869f184b45",
   "metadata": {},
   "outputs": [
    {
     "data": {
      "text/plain": [
       "list"
      ]
     },
     "execution_count": 94,
     "metadata": {},
     "output_type": "execute_result"
    }
   ],
   "source": [
    "type([])"
   ]
  },
  {
   "cell_type": "code",
   "execution_count": 95,
   "id": "d5c2e23e-e269-49ba-b84c-d7aba696c3ac",
   "metadata": {},
   "outputs": [],
   "source": [
    "lst_example= []"
   ]
  },
  {
   "cell_type": "code",
   "execution_count": 103,
   "id": "a1a4562a-6c69-44e5-86e5-78e201f0ac89",
   "metadata": {},
   "outputs": [],
   "source": [
    "lst= list()"
   ]
  },
  {
   "cell_type": "code",
   "execution_count": 104,
   "id": "d347dbfb-02b4-492a-8a2b-5595e2cad286",
   "metadata": {},
   "outputs": [
    {
     "data": {
      "text/plain": [
       "list"
      ]
     },
     "execution_count": 104,
     "metadata": {},
     "output_type": "execute_result"
    }
   ],
   "source": [
    "type(lst)"
   ]
  },
  {
   "cell_type": "code",
   "execution_count": 105,
   "id": "8931a008-57b4-4683-acc2-af30287891ba",
   "metadata": {},
   "outputs": [],
   "source": [
    "lst= [\"ratul\", \"aaradhya bachchan\", \"aradh\", 2011, 1997]"
   ]
  },
  {
   "cell_type": "code",
   "execution_count": 106,
   "id": "c1baef5f-7380-40a2-8c92-a4423d47d591",
   "metadata": {},
   "outputs": [
    {
     "data": {
      "text/plain": [
       "5"
      ]
     },
     "execution_count": 106,
     "metadata": {},
     "output_type": "execute_result"
    }
   ],
   "source": [
    "len(lst)"
   ]
  },
  {
   "cell_type": "code",
   "execution_count": 107,
   "id": "c63bdf99-117c-4032-9d30-870915a58d5a",
   "metadata": {},
   "outputs": [
    {
     "data": {
      "text/plain": [
       "list"
      ]
     },
     "execution_count": 107,
     "metadata": {},
     "output_type": "execute_result"
    }
   ],
   "source": [
    "type(lst)"
   ]
  },
  {
   "cell_type": "code",
   "execution_count": 112,
   "id": "805793e9-7f49-45cd-b632-54657225350f",
   "metadata": {},
   "outputs": [
    {
     "data": {
      "text/plain": [
       "['ratul',\n",
       " 'aaradhya bachchan',\n",
       " 'aradh',\n",
       " 2011,\n",
       " 1997,\n",
       " 'amitabh bachchan',\n",
       " 'amitabh bachchan',\n",
       " 'amitabh bachchan',\n",
       " 'amitabh bachchan',\n",
       " 'amitabh bachchan']"
      ]
     },
     "execution_count": 112,
     "metadata": {},
     "output_type": "execute_result"
    }
   ],
   "source": [
    "#append \n",
    "lst.append(\"amitabh bachchan\")\n",
    "lst"
   ]
  },
  {
   "cell_type": "code",
   "execution_count": 113,
   "id": "3aa48ba9-c81b-43f6-be09-289b3e9f4194",
   "metadata": {},
   "outputs": [
    {
     "data": {
      "text/plain": [
       "['aradh', 2011, 1997, 'amitabh bachchan']"
      ]
     },
     "execution_count": 113,
     "metadata": {},
     "output_type": "execute_result"
    }
   ],
   "source": [
    "lst[2:6]"
   ]
  },
  {
   "cell_type": "code",
   "execution_count": 114,
   "id": "c677cca5-419b-4305-8880-81a8c2971645",
   "metadata": {},
   "outputs": [
    {
     "data": {
      "text/plain": [
       "['ratul',\n",
       " 'aaradhya bachchan',\n",
       " 'aradh',\n",
       " 2011,\n",
       " 1997,\n",
       " 'amitabh bachchan',\n",
       " 'amitabh bachchan',\n",
       " 'amitabh bachchan',\n",
       " 'amitabh bachchan',\n",
       " 'amitabh bachchan']"
      ]
     },
     "execution_count": 114,
     "metadata": {},
     "output_type": "execute_result"
    }
   ],
   "source": [
    "lst"
   ]
  },
  {
   "cell_type": "code",
   "execution_count": 115,
   "id": "0e0b414f-0dd1-455c-be43-9e095b121138",
   "metadata": {},
   "outputs": [],
   "source": [
    "lst.append([\"snigdha\", \"linta\"])"
   ]
  },
  {
   "cell_type": "code",
   "execution_count": 116,
   "id": "4841e6ff-b0da-40c8-8a36-0aa4b8b2dc79",
   "metadata": {},
   "outputs": [
    {
     "data": {
      "text/plain": [
       "['ratul',\n",
       " 'aaradhya bachchan',\n",
       " 'aradh',\n",
       " 2011,\n",
       " 1997,\n",
       " 'amitabh bachchan',\n",
       " 'amitabh bachchan',\n",
       " 'amitabh bachchan',\n",
       " 'amitabh bachchan',\n",
       " 'amitabh bachchan',\n",
       " ['snigdha', 'linta']]"
      ]
     },
     "execution_count": 116,
     "metadata": {},
     "output_type": "execute_result"
    }
   ],
   "source": [
    "lst"
   ]
  },
  {
   "cell_type": "code",
   "execution_count": 117,
   "id": "b9201098-d9c9-4405-925e-a7fa4857e8ff",
   "metadata": {},
   "outputs": [
    {
     "data": {
      "text/plain": [
       "'amitabh bachchan'"
      ]
     },
     "execution_count": 117,
     "metadata": {},
     "output_type": "execute_result"
    }
   ],
   "source": [
    "lst[6]"
   ]
  },
  {
   "cell_type": "code",
   "execution_count": 119,
   "id": "1415115e-cc25-4f7b-b98a-d625b0e2fbe1",
   "metadata": {},
   "outputs": [
    {
     "data": {
      "text/plain": [
       "1997"
      ]
     },
     "execution_count": 119,
     "metadata": {},
     "output_type": "execute_result"
    }
   ],
   "source": [
    "lst[4]"
   ]
  },
  {
   "cell_type": "code",
   "execution_count": 121,
   "id": "b3c70a23-c395-4848-922e-5d10ab7788eb",
   "metadata": {},
   "outputs": [],
   "source": [
    "# insert\n",
    "\n",
    "lst2 = [\"zeem\", \"zao\", 124, 211, 208, \"Snigdha\"]"
   ]
  },
  {
   "cell_type": "code",
   "execution_count": 122,
   "id": "118181c1-06ec-44ea-a262-bbe1cb4449f8",
   "metadata": {},
   "outputs": [],
   "source": [
    "lst2.insert(2, \"ratul\")"
   ]
  },
  {
   "cell_type": "code",
   "execution_count": 123,
   "id": "4090a5c8-3827-4191-bc6c-8574b06dcab3",
   "metadata": {},
   "outputs": [
    {
     "data": {
      "text/plain": [
       "['zeem', 'zao', 'ratul', 124, 211, 208, 'Snigdha']"
      ]
     },
     "execution_count": 123,
     "metadata": {},
     "output_type": "execute_result"
    }
   ],
   "source": [
    "lst2"
   ]
  },
  {
   "cell_type": "code",
   "execution_count": 124,
   "id": "6e82d85e-70b1-4421-92e8-8d36f19b69ea",
   "metadata": {},
   "outputs": [],
   "source": [
    "lst2[3]= \"aaradhya bachchan\""
   ]
  },
  {
   "cell_type": "code",
   "execution_count": 125,
   "id": "828c278f-c02a-40dc-a371-5cd52a92367a",
   "metadata": {},
   "outputs": [
    {
     "data": {
      "text/plain": [
       "['zeem', 'zao', 'ratul', 'aaradhya bachchan', 211, 208, 'Snigdha']"
      ]
     },
     "execution_count": 125,
     "metadata": {},
     "output_type": "execute_result"
    }
   ],
   "source": [
    "lst2"
   ]
  },
  {
   "cell_type": "code",
   "execution_count": 126,
   "id": "4bffc424-4361-4b0f-91e1-37ff6ce9f896",
   "metadata": {},
   "outputs": [],
   "source": [
    "lst2.append([\"Hello\", \"World\"])"
   ]
  },
  {
   "cell_type": "code",
   "execution_count": 127,
   "id": "780393a2-2291-4cd0-9ab4-f1c3ee2dbb21",
   "metadata": {},
   "outputs": [
    {
     "data": {
      "text/plain": [
       "['zeem',\n",
       " 'zao',\n",
       " 'ratul',\n",
       " 'aaradhya bachchan',\n",
       " 211,\n",
       " 208,\n",
       " 'Snigdha',\n",
       " ['Hello', 'World']]"
      ]
     },
     "execution_count": 127,
     "metadata": {},
     "output_type": "execute_result"
    }
   ],
   "source": [
    "lst2"
   ]
  },
  {
   "cell_type": "markdown",
   "id": "dd11b87c-ff20-4725-973b-243a2ca66e61",
   "metadata": {},
   "source": [
    "### Extend Method"
   ]
  },
  {
   "cell_type": "code",
   "execution_count": 143,
   "id": "d84ca8e7-7903-406e-ba83-b10f40f40ce6",
   "metadata": {},
   "outputs": [],
   "source": [
    "lst3 = [\"anika mahapara\", \"Anika\" , \"amira\", 19992, [\"ratul\", \"zaima\"], [\"snigdha\", \"ratul\"]]"
   ]
  },
  {
   "cell_type": "code",
   "execution_count": 144,
   "id": "9696ac97-e8a5-4442-bffc-25bb24914034",
   "metadata": {},
   "outputs": [
    {
     "data": {
      "text/plain": [
       "['anika mahapara',\n",
       " 'Anika',\n",
       " 'amira',\n",
       " 19992,\n",
       " ['ratul', 'zaima'],\n",
       " ['snigdha', 'ratul']]"
      ]
     },
     "execution_count": 144,
     "metadata": {},
     "output_type": "execute_result"
    }
   ],
   "source": [
    "lst3\n"
   ]
  },
  {
   "cell_type": "code",
   "execution_count": 145,
   "id": "4f4a958f-097f-4576-86f6-32a6a8b9e8ca",
   "metadata": {},
   "outputs": [],
   "source": [
    "lst3.append([\"keya\", \"payel\", [\"Moye moye\"]])"
   ]
  },
  {
   "cell_type": "code",
   "execution_count": 146,
   "id": "806584be-7ff5-45df-ab68-fd000767e1cf",
   "metadata": {},
   "outputs": [
    {
     "data": {
      "text/plain": [
       "['anika mahapara',\n",
       " 'Anika',\n",
       " 'amira',\n",
       " 19992,\n",
       " ['ratul', 'zaima'],\n",
       " ['snigdha', 'ratul'],\n",
       " ['keya', 'payel', ['Moye moye']]]"
      ]
     },
     "execution_count": 146,
     "metadata": {},
     "output_type": "execute_result"
    }
   ],
   "source": [
    "lst3"
   ]
  },
  {
   "cell_type": "code",
   "execution_count": 147,
   "id": "92de3937-9bff-41c9-9586-2cc97c03b86a",
   "metadata": {},
   "outputs": [],
   "source": [
    "lst3.extend([['keya', 'payel', ['Moye moye']]])"
   ]
  },
  {
   "cell_type": "code",
   "execution_count": 148,
   "id": "bcc2360a-5680-44fd-a4b4-0aa6a7ed4a11",
   "metadata": {},
   "outputs": [
    {
     "data": {
      "text/plain": [
       "['anika mahapara',\n",
       " 'Anika',\n",
       " 'amira',\n",
       " 19992,\n",
       " ['ratul', 'zaima'],\n",
       " ['snigdha', 'ratul'],\n",
       " ['keya', 'payel', ['Moye moye']],\n",
       " ['keya', 'payel', ['Moye moye']]]"
      ]
     },
     "execution_count": 148,
     "metadata": {},
     "output_type": "execute_result"
    }
   ],
   "source": [
    "lst3"
   ]
  },
  {
   "cell_type": "code",
   "execution_count": 149,
   "id": "b8f64c38-a00b-4be2-8e1e-9ea117cc8645",
   "metadata": {},
   "outputs": [],
   "source": [
    "lst3.extend(['ratul', 'zaima'])"
   ]
  },
  {
   "cell_type": "code",
   "execution_count": 150,
   "id": "bb6a08c4-c4c7-4cfd-be64-d224ee54a976",
   "metadata": {},
   "outputs": [
    {
     "data": {
      "text/plain": [
       "['anika mahapara',\n",
       " 'Anika',\n",
       " 'amira',\n",
       " 19992,\n",
       " ['ratul', 'zaima'],\n",
       " ['snigdha', 'ratul'],\n",
       " ['keya', 'payel', ['Moye moye']],\n",
       " ['keya', 'payel', ['Moye moye']],\n",
       " 'ratul',\n",
       " 'zaima']"
      ]
     },
     "execution_count": 150,
     "metadata": {},
     "output_type": "execute_result"
    }
   ],
   "source": [
    "lst3"
   ]
  },
  {
   "cell_type": "code",
   "execution_count": 151,
   "id": "d90abcae-f8d1-4b87-8ec3-9f5aaa187c71",
   "metadata": {},
   "outputs": [],
   "source": [
    "lst4 = [\"anika mahapara\", \"Anika\" , \"amira\", [\"snigdha\", \"ratul\"]]"
   ]
  },
  {
   "cell_type": "code",
   "execution_count": 152,
   "id": "1f053378-3503-4f8e-a2c1-01a6a265ee0c",
   "metadata": {},
   "outputs": [
    {
     "data": {
      "text/plain": [
       "['anika mahapara', 'Anika', 'amira', ['snigdha', 'ratul']]"
      ]
     },
     "execution_count": 152,
     "metadata": {},
     "output_type": "execute_result"
    }
   ],
   "source": [
    "lst4"
   ]
  },
  {
   "cell_type": "code",
   "execution_count": 153,
   "id": "c37c0f3c-2b81-4fe7-975d-756d807ef5aa",
   "metadata": {},
   "outputs": [],
   "source": [
    "lst4.extend(['snigdha', 'ratul'])"
   ]
  },
  {
   "cell_type": "code",
   "execution_count": 154,
   "id": "1c95df80-7ab7-4c75-ba70-c7eb050bd3f2",
   "metadata": {},
   "outputs": [
    {
     "data": {
      "text/plain": [
       "['anika mahapara', 'Anika', 'amira', ['snigdha', 'ratul'], 'snigdha', 'ratul']"
      ]
     },
     "execution_count": 154,
     "metadata": {},
     "output_type": "execute_result"
    }
   ],
   "source": [
    "lst4"
   ]
  },
  {
   "cell_type": "code",
   "execution_count": 163,
   "id": "8cc03bd6-c192-4ccd-bc92-c84cfe1f5fca",
   "metadata": {},
   "outputs": [
    {
     "data": {
      "text/plain": [
       "[1, 3, 3, 4]"
      ]
     },
     "execution_count": 163,
     "metadata": {},
     "output_type": "execute_result"
    }
   ],
   "source": [
    "lst0 = [1, 3, 3, 4]\n",
    "lst0"
   ]
  },
  {
   "cell_type": "code",
   "execution_count": 164,
   "id": "b2bc20e0-94c8-458d-b418-118636e7d420",
   "metadata": {},
   "outputs": [
    {
     "data": {
      "text/plain": [
       "[1, 3, 3, 4, [5, 6]]"
      ]
     },
     "execution_count": 164,
     "metadata": {},
     "output_type": "execute_result"
    }
   ],
   "source": [
    "lst0.append([5, 6])\n",
    "lst0"
   ]
  },
  {
   "cell_type": "code",
   "execution_count": 165,
   "id": "09959c5a-be31-4b68-a8d9-9a5c10c336a9",
   "metadata": {},
   "outputs": [],
   "source": [
    "lst0.extend([5, 6])"
   ]
  },
  {
   "cell_type": "code",
   "execution_count": 166,
   "id": "66757b9d-ae35-40f1-b138-d413d7479cb4",
   "metadata": {},
   "outputs": [
    {
     "data": {
      "text/plain": [
       "[1, 3, 3, 4, [5, 6], 5, 6]"
      ]
     },
     "execution_count": 166,
     "metadata": {},
     "output_type": "execute_result"
    }
   ],
   "source": [
    "lst0"
   ]
  },
  {
   "cell_type": "code",
   "execution_count": 2,
   "id": "f3ffd4d2-3ef0-4c1f-9057-2196cf487d19",
   "metadata": {},
   "outputs": [],
   "source": [
    "# various operations we can do inside of list\n",
    "lst=[1, 2, 100, 2, 12]"
   ]
  },
  {
   "cell_type": "code",
   "execution_count": 3,
   "id": "7569d30d-9f3b-4b8b-bb6f-32a1037fd955",
   "metadata": {},
   "outputs": [
    {
     "data": {
      "text/plain": [
       "117"
      ]
     },
     "execution_count": 3,
     "metadata": {},
     "output_type": "execute_result"
    }
   ],
   "source": [
    "sum(lst)"
   ]
  },
  {
   "cell_type": "code",
   "execution_count": 4,
   "id": "fd614097-420a-419b-a9d8-e54f3acf3d00",
   "metadata": {},
   "outputs": [
    {
     "data": {
      "text/plain": [
       "[1,\n",
       " 2,\n",
       " 100,\n",
       " 2,\n",
       " 12,\n",
       " 1,\n",
       " 2,\n",
       " 100,\n",
       " 2,\n",
       " 12,\n",
       " 1,\n",
       " 2,\n",
       " 100,\n",
       " 2,\n",
       " 12,\n",
       " 1,\n",
       " 2,\n",
       " 100,\n",
       " 2,\n",
       " 12,\n",
       " 1,\n",
       " 2,\n",
       " 100,\n",
       " 2,\n",
       " 12]"
      ]
     },
     "execution_count": 4,
     "metadata": {},
     "output_type": "execute_result"
    }
   ],
   "source": [
    "lst * 5"
   ]
  },
  {
   "cell_type": "code",
   "execution_count": 5,
   "id": "eafba458-2e94-42eb-b869-cceae1761778",
   "metadata": {},
   "outputs": [
    {
     "name": "stdout",
     "output_type": "stream",
     "text": [
      "0.2\n",
      "0.4\n",
      "20.0\n",
      "0.4\n",
      "2.4\n"
     ]
    }
   ],
   "source": [
    "for i in lst:\n",
    "    print(i/5)"
   ]
  },
  {
   "cell_type": "code",
   "execution_count": 6,
   "id": "6380588b-5d69-4649-b664-5dbe50cfc7c7",
   "metadata": {},
   "outputs": [
    {
     "data": {
      "text/plain": [
       "[1, 2, 100, 2, 12]"
      ]
     },
     "execution_count": 6,
     "metadata": {},
     "output_type": "execute_result"
    }
   ],
   "source": [
    "lst"
   ]
  },
  {
   "cell_type": "code",
   "execution_count": 7,
   "id": "95e53c7b-be84-427b-bb5d-ce28afeddefe",
   "metadata": {},
   "outputs": [
    {
     "data": {
      "text/plain": [
       "12"
      ]
     },
     "execution_count": 7,
     "metadata": {},
     "output_type": "execute_result"
    }
   ],
   "source": [
    "#pop\n",
    "lst.pop()"
   ]
  },
  {
   "cell_type": "code",
   "execution_count": 8,
   "id": "8d55e32e-e3db-4b3c-afdc-edc57f824f45",
   "metadata": {},
   "outputs": [
    {
     "data": {
      "text/plain": [
       "[1, 2, 100, 2]"
      ]
     },
     "execution_count": 8,
     "metadata": {},
     "output_type": "execute_result"
    }
   ],
   "source": [
    "lst"
   ]
  },
  {
   "cell_type": "code",
   "execution_count": 9,
   "id": "b700906f-f783-4a0f-b234-7ec6d1202b92",
   "metadata": {},
   "outputs": [],
   "source": [
    "#count\n",
    "lst = [3, 3, 4, 1, 2, 54, 4]"
   ]
  },
  {
   "cell_type": "code",
   "execution_count": 10,
   "id": "4cce6db4-e4d9-4f86-9ae0-ad2a5c940a79",
   "metadata": {},
   "outputs": [
    {
     "data": {
      "text/plain": [
       "2"
      ]
     },
     "execution_count": 10,
     "metadata": {},
     "output_type": "execute_result"
    }
   ],
   "source": [
    "lst.count(3)"
   ]
  },
  {
   "cell_type": "code",
   "execution_count": 11,
   "id": "1b780960-bdc0-4ea9-b50a-434b620e6270",
   "metadata": {},
   "outputs": [
    {
     "data": {
      "text/plain": [
       "7"
      ]
     },
     "execution_count": 11,
     "metadata": {},
     "output_type": "execute_result"
    }
   ],
   "source": [
    "len(lst)"
   ]
  },
  {
   "cell_type": "code",
   "execution_count": 12,
   "id": "e6dfcdd4-9c96-4ca4-91f2-44156d540b25",
   "metadata": {},
   "outputs": [
    {
     "data": {
      "text/plain": [
       "4"
      ]
     },
     "execution_count": 12,
     "metadata": {},
     "output_type": "execute_result"
    }
   ],
   "source": [
    "lst.index(2, 1, 6)"
   ]
  },
  {
   "cell_type": "code",
   "execution_count": 13,
   "id": "3d0c9136-4cc7-48b7-ade0-3f2d3c1ba34b",
   "metadata": {},
   "outputs": [
    {
     "data": {
      "text/plain": [
       "1"
      ]
     },
     "execution_count": 13,
     "metadata": {},
     "output_type": "execute_result"
    }
   ],
   "source": [
    "##Min and Max\n",
    "min(lst)"
   ]
  },
  {
   "cell_type": "code",
   "execution_count": 14,
   "id": "a19e07e1-497e-4b98-b5ba-957cef058e39",
   "metadata": {},
   "outputs": [
    {
     "data": {
      "text/plain": [
       "54"
      ]
     },
     "execution_count": 14,
     "metadata": {},
     "output_type": "execute_result"
    }
   ],
   "source": [
    "max(lst)"
   ]
  },
  {
   "cell_type": "code",
   "execution_count": null,
   "id": "d5e35ba8-116c-46c2-acc7-0a72fc3815f3",
   "metadata": {},
   "outputs": [],
   "source": []
  },
  {
   "cell_type": "code",
   "execution_count": null,
   "id": "ed48f4c0-a211-4edb-8a33-70e38651ee0a",
   "metadata": {},
   "outputs": [],
   "source": []
  },
  {
   "cell_type": "code",
   "execution_count": null,
   "id": "3bfd0a9e-82c5-417f-b420-8160bbefaa1b",
   "metadata": {},
   "outputs": [],
   "source": []
  },
  {
   "cell_type": "code",
   "execution_count": null,
   "id": "9eadaadd-d641-437d-ac01-c3e95b12bae8",
   "metadata": {},
   "outputs": [],
   "source": []
  },
  {
   "cell_type": "code",
   "execution_count": null,
   "id": "4899b4ee-7be9-44a4-a6e4-290ed434d432",
   "metadata": {},
   "outputs": [],
   "source": []
  },
  {
   "cell_type": "code",
   "execution_count": null,
   "id": "940b8a60-f9f4-4121-8638-021e87dcc8f3",
   "metadata": {},
   "outputs": [],
   "source": []
  },
  {
   "cell_type": "code",
   "execution_count": null,
   "id": "a5a4a8e0-d7be-42c1-ae2d-6cc71c43303c",
   "metadata": {},
   "outputs": [],
   "source": []
  },
  {
   "cell_type": "code",
   "execution_count": null,
   "id": "6562e7fe-c96d-41c4-9851-fe1a6a9f8e45",
   "metadata": {},
   "outputs": [],
   "source": []
  },
  {
   "cell_type": "code",
   "execution_count": null,
   "id": "62beb620-2b3d-4605-8132-c899634cce38",
   "metadata": {},
   "outputs": [],
   "source": []
  },
  {
   "cell_type": "code",
   "execution_count": null,
   "id": "77e05cd8-b439-49e4-8f4b-b116f79b42f0",
   "metadata": {},
   "outputs": [],
   "source": []
  }
 ],
 "metadata": {
  "kernelspec": {
   "display_name": "Python 3 (ipykernel)",
   "language": "python",
   "name": "python3"
  },
  "language_info": {
   "codemirror_mode": {
    "name": "ipython",
    "version": 3
   },
   "file_extension": ".py",
   "mimetype": "text/x-python",
   "name": "python",
   "nbconvert_exporter": "python",
   "pygments_lexer": "ipython3",
   "version": "3.11.7"
  }
 },
 "nbformat": 4,
 "nbformat_minor": 5
}
