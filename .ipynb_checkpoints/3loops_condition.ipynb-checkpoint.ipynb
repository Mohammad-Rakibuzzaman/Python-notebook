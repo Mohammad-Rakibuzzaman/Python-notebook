{
 "cells": [
  {
   "cell_type": "markdown",
   "id": "64b0cdab-4c5e-4b2a-a1b4-bcc717b40971",
   "metadata": {},
   "source": [
    "# Python Control flows"
   ]
  },
  {
   "cell_type": "code",
   "execution_count": 1,
   "id": "42674040-59a3-4d37-84d4-2e44c8bc18bc",
   "metadata": {},
   "outputs": [
    {
     "name": "stdin",
     "output_type": "stream",
     "text": [
      "enter a num:  2\n"
     ]
    },
    {
     "name": "stdout",
     "output_type": "stream",
     "text": [
      "even\n"
     ]
    }
   ],
   "source": [
    "# if statement \n",
    "\n",
    "val = int(input(\"enter a num: \"))\n",
    "if(val % 2 == 0):\n",
    "          print(\"even\")\n",
    "\n",
    "          "
   ]
  },
  {
   "cell_type": "code",
   "execution_count": 2,
   "id": "504201d9-7414-44b0-8934-f3660536f616",
   "metadata": {},
   "outputs": [
    {
     "data": {
      "text/plain": [
       "False"
      ]
     },
     "execution_count": 2,
     "metadata": {},
     "output_type": "execute_result"
    }
   ],
   "source": [
    "10 % 2 != 0"
   ]
  },
  {
   "cell_type": "code",
   "execution_count": 3,
   "id": "6d43a9d7-c390-483c-9258-c53a308636cf",
   "metadata": {},
   "outputs": [
    {
     "name": "stdin",
     "output_type": "stream",
     "text": [
      "enter a num:  2\n"
     ]
    },
    {
     "name": "stdout",
     "output_type": "stream",
     "text": [
      "even\n"
     ]
    }
   ],
   "source": [
    "# if + else state\n",
    "\n",
    "\n",
    "val = int(input(\"enter a num: \"))\n",
    "if(val % 2 == 0):\n",
    "    print(\"even\")\n",
    "else:\n",
    "    print(\"odd\")"
   ]
  },
  {
   "cell_type": "code",
   "execution_count": 4,
   "id": "90c8f0c8-7446-4088-8929-6de117379ba1",
   "metadata": {},
   "outputs": [
    {
     "name": "stdin",
     "output_type": "stream",
     "text": [
      "enter your age:  2\n"
     ]
    },
    {
     "name": "stdout",
     "output_type": "stream",
     "text": [
      "child!\n"
     ]
    }
   ],
   "source": [
    "#age form example\n",
    "age = int(input(\"enter your age: \"))\n",
    "\n",
    "if(age < 18):\n",
    "    print(\"child!\")\n",
    "elif(age >= 18 and age <= 45):\n",
    "    print(\"middle aged\")\n",
    "elif(age > 45 and age <= 50):\n",
    "    print(\"senior mid age\")\n",
    "else:\n",
    "    print(\"senior!\")\n"
   ]
  },
  {
   "cell_type": "code",
   "execution_count": 5,
   "id": "722e6988-b49c-4705-a550-ce2f6b2024f6",
   "metadata": {},
   "outputs": [
    {
     "name": "stdin",
     "output_type": "stream",
     "text": [
      "enter your age:  2\n"
     ]
    },
    {
     "name": "stdout",
     "output_type": "stream",
     "text": [
      "teen!\n",
      "You are in school child!\n"
     ]
    }
   ],
   "source": [
    "#nested if else example\n",
    "age = int(input(\"enter your age: \"))\n",
    "\n",
    "if(age < 18):\n",
    "    print(\"teen!\")\n",
    "    if(age < 15):\n",
    "        print(\"You are in school child!\")\n",
    "    else:\n",
    "        print(\"You are in high school\")\n",
    "    \n",
    "elif(age >= 18 and age <= 45):\n",
    "    print(\"middle aged\")\n",
    "elif(age > 45 and age <= 50):\n",
    "    print(\"senior mid age\")\n",
    "else:\n",
    "    print(\"senior!\")\n",
    "\n",
    "\n",
    "\n"
   ]
  },
  {
   "cell_type": "markdown",
   "id": "625442a6-0c9c-4d5d-bdbb-235544602f86",
   "metadata": {},
   "source": [
    "## Loops statement\n"
   ]
  },
  {
   "cell_type": "code",
   "execution_count": 6,
   "id": "f44cd28c-7872-4c51-8415-0c97281aa743",
   "metadata": {},
   "outputs": [
    {
     "name": "stdout",
     "output_type": "stream",
     "text": [
      "4\n",
      "9\n",
      "16\n",
      "25\n",
      "36\n",
      "49\n"
     ]
    }
   ],
   "source": [
    "#for loop\n",
    "\n",
    "lists = [2,3,4,5,6,7]\n",
    "for _ in lists:\n",
    "    print(_**2)\n"
   ]
  },
  {
   "cell_type": "code",
   "execution_count": 7,
   "id": "fff75146-721a-4112-a77d-3772003a8d8b",
   "metadata": {},
   "outputs": [
    {
     "name": "stdout",
     "output_type": "stream",
     "text": [
      "6000000000003137\n"
     ]
    }
   ],
   "source": [
    "bundles = [100, 500, 2000, 312, 225, 6000000000000000]\n",
    "\n",
    "store = 0\n",
    "for i in bundles:\n",
    "    store = store + i \n",
    "print(store)\n",
    "    "
   ]
  },
  {
   "cell_type": "code",
   "execution_count": 8,
   "id": "b48d5e36-6f93-4eec-8669-f315706b5197",
   "metadata": {},
   "outputs": [
    {
     "name": "stdout",
     "output_type": "stream",
     "text": [
      "Total even numbser summation is: 12\n",
      "Total odd numbser summation is: 15\n"
     ]
    }
   ],
   "source": [
    "#find the sum of even and odd \n",
    "\n",
    "lists = [2,3,4,5,6,7]\n",
    "\n",
    "even_store= 0\n",
    "odd_store= 0\n",
    "\n",
    "for _ in lists:\n",
    "    if(_ % 2 == 0):\n",
    "        even_store = even_store + _\n",
    "    else: \n",
    "        odd_store = odd_store + _\n",
    "\n",
    "\n",
    "print(\"Total even numbser summation is: {}\".format(even_store))\n",
    "print(\"Total odd numbser summation is: {}\".format(odd_store))\n",
    "    "
   ]
  },
  {
   "cell_type": "code",
   "execution_count": 9,
   "id": "b3324c92-d2dd-4a59-8691-04b62c3bacaa",
   "metadata": {},
   "outputs": [
    {
     "name": "stdout",
     "output_type": "stream",
     "text": [
      "110 100\n"
     ]
    }
   ],
   "source": [
    "# while condition\n",
    "\n",
    "j= 0\n",
    "even_total= 0\n",
    "odd_total= 0\n",
    "\n",
    "while(j <= 20):\n",
    "    \n",
    "    if(j%2 == 0):\n",
    "        even_total = even_total + j\n",
    "    else:\n",
    "        odd_total = odd_total + j\n",
    "\n",
    "    j = j + 1\n",
    "\n",
    "print(even_total, odd_total)\n"
   ]
  },
  {
   "cell_type": "code",
   "execution_count": 10,
   "id": "e04aaf3a-53be-4bd9-9af6-c65aed96e942",
   "metadata": {},
   "outputs": [
    {
     "name": "stdout",
     "output_type": "stream",
     "text": [
      "1\n",
      "2\n",
      "3\n",
      "4\n"
     ]
    }
   ],
   "source": [
    "## break\n",
    "i = 1\n",
    "\n",
    "while(i < 7):\n",
    "    if i == 5:\n",
    "        break\n",
    "    print(i)\n",
    "    i = i + 1\n"
   ]
  },
  {
   "cell_type": "code",
   "execution_count": null,
   "id": "9c69d70c-ec3d-408f-a63c-f739a8754ec5",
   "metadata": {},
   "outputs": [],
   "source": [
    "#continue \n",
    "j = 0 \n",
    "while j < 7:\n",
    "    j = j + 1\n",
    "    if j == 3:\n",
    "        continue\n",
    "    print(j)"
   ]
  },
  {
   "cell_type": "code",
   "execution_count": null,
   "id": "b125b238-149e-468b-8c35-5b833db9cde0",
   "metadata": {},
   "outputs": [],
   "source": []
  },
  {
   "cell_type": "code",
   "execution_count": null,
   "id": "1b014a20-73c1-40d3-a6b2-7f440f0a3aa4",
   "metadata": {},
   "outputs": [],
   "source": []
  },
  {
   "cell_type": "code",
   "execution_count": null,
   "id": "0d8ab3a2-8b49-4acd-b9b4-2032afeb148e",
   "metadata": {},
   "outputs": [],
   "source": []
  },
  {
   "cell_type": "code",
   "execution_count": null,
   "id": "791f0d6c-1161-4b2d-b5af-920270c24001",
   "metadata": {},
   "outputs": [],
   "source": []
  },
  {
   "cell_type": "code",
   "execution_count": null,
   "id": "3646f9b0-6d5b-4274-86be-1b0cd362f721",
   "metadata": {},
   "outputs": [],
   "source": []
  },
  {
   "cell_type": "code",
   "execution_count": null,
   "id": "1e9ac581-2922-4ff0-8bc6-0dc5787ae448",
   "metadata": {},
   "outputs": [],
   "source": []
  }
 ],
 "metadata": {
  "kernelspec": {
   "display_name": "Python 3 (ipykernel)",
   "language": "python",
   "name": "python3"
  },
  "language_info": {
   "codemirror_mode": {
    "name": "ipython",
    "version": 3
   },
   "file_extension": ".py",
   "mimetype": "text/x-python",
   "name": "python",
   "nbconvert_exporter": "python",
   "pygments_lexer": "ipython3",
   "version": "3.11.7"
  }
 },
 "nbformat": 4,
 "nbformat_minor": 5
}
