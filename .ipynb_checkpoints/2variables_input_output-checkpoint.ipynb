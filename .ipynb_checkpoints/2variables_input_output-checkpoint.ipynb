{
 "cells": [
  {
   "cell_type": "code",
   "execution_count": 1,
   "id": "d8622577-928c-4bc3-aac3-c5c4ae18ea2d",
   "metadata": {},
   "outputs": [
    {
     "name": "stdout",
     "output_type": "stream",
     "text": [
      "starting my agile like journey haha\n",
      "Welcome to my course\n"
     ]
    }
   ],
   "source": [
    "print(\"starting my agile like journey haha\")\n",
    "print(\"Welcome to my course\")\n"
   ]
  },
  {
   "cell_type": "code",
   "execution_count": 6,
   "id": "91580bb7-23d3-4c72-9fb0-ddcc89db5694",
   "metadata": {},
   "outputs": [
    {
     "name": "stdout",
     "output_type": "stream",
     "text": [
      "Python\n"
     ]
    }
   ],
   "source": [
    "# Single and multiple line code. writing comment make understanding well\n",
    "'''\n",
    "machine learning\n",
    "deep learning\n",
    "generative learning\n",
    "'''\n",
    "print(\"Python\")\n"
   ]
  },
  {
   "cell_type": "code",
   "execution_count": 9,
   "id": "fa984e54-3b9b-412c-961e-a459afcc1104",
   "metadata": {},
   "outputs": [
    {
     "data": {
      "text/plain": [
       "int"
      ]
     },
     "execution_count": 9,
     "metadata": {},
     "output_type": "execute_result"
    }
   ],
   "source": [
    "# variable declaration\n",
    "a = 10\n",
    "type(a)"
   ]
  },
  {
   "cell_type": "code",
   "execution_count": 10,
   "id": "5cf6b0db-9eb8-4064-946c-e983b19f133c",
   "metadata": {},
   "outputs": [
    {
     "name": "stdout",
     "output_type": "stream",
     "text": [
      "10\n"
     ]
    }
   ],
   "source": [
    "print(a)"
   ]
  },
  {
   "cell_type": "code",
   "execution_count": 11,
   "id": "a0dc8b23-99d2-4179-99fc-895261412def",
   "metadata": {},
   "outputs": [],
   "source": [
    "eleventh = 11\n",
    "x = 50\n",
    "y = \"Ratul\""
   ]
  },
  {
   "cell_type": "code",
   "execution_count": 13,
   "id": "f8ea97b4-fa53-484b-94d4-ede9649f81f8",
   "metadata": {},
   "outputs": [
    {
     "data": {
      "text/plain": [
       "str"
      ]
     },
     "execution_count": 13,
     "metadata": {},
     "output_type": "execute_result"
    }
   ],
   "source": [
    "type(y)"
   ]
  },
  {
   "cell_type": "code",
   "execution_count": 14,
   "id": "0fd1fa58-8e5d-4d80-8086-597e7d66c4c6",
   "metadata": {},
   "outputs": [],
   "source": [
    "a1 = 10"
   ]
  },
  {
   "cell_type": "code",
   "execution_count": 16,
   "id": "b719dbfd-6f47-4c4a-9e8f-c1e510327b1f",
   "metadata": {},
   "outputs": [
    {
     "name": "stdout",
     "output_type": "stream",
     "text": [
      "rakibuzzaman\n"
     ]
    }
   ],
   "source": [
    "last_name = \"rakibuzzaman\"\n",
    "print(last_name)"
   ]
  },
  {
   "cell_type": "code",
   "execution_count": 17,
   "id": "108eb99d-ad0a-4586-8126-9d074d7d1e81",
   "metadata": {},
   "outputs": [],
   "source": [
    "# integers\n",
    "x = 20"
   ]
  },
  {
   "cell_type": "code",
   "execution_count": 18,
   "id": "b5ddba79-9eed-4c7b-806b-4f6e62240e26",
   "metadata": {},
   "outputs": [
    {
     "data": {
      "text/plain": [
       "32"
      ]
     },
     "execution_count": 18,
     "metadata": {},
     "output_type": "execute_result"
    }
   ],
   "source": [
    "x + 12"
   ]
  },
  {
   "cell_type": "code",
   "execution_count": 20,
   "id": "93fcccc7-522d-4c18-a476-2a4805bb0f98",
   "metadata": {},
   "outputs": [
    {
     "data": {
      "text/plain": [
       "40"
      ]
     },
     "execution_count": 20,
     "metadata": {},
     "output_type": "execute_result"
    }
   ],
   "source": [
    "x * 2"
   ]
  },
  {
   "cell_type": "code",
   "execution_count": 21,
   "id": "6890bd9c-7139-408d-aaef-ec61117dc3db",
   "metadata": {},
   "outputs": [
    {
     "data": {
      "text/plain": [
       "10.0"
      ]
     },
     "execution_count": 21,
     "metadata": {},
     "output_type": "execute_result"
    }
   ],
   "source": [
    "x / 2"
   ]
  },
  {
   "cell_type": "code",
   "execution_count": 22,
   "id": "69263a5a-666a-4138-93ed-635de23202b0",
   "metadata": {},
   "outputs": [
    {
     "data": {
      "text/plain": [
       "0"
      ]
     },
     "execution_count": 22,
     "metadata": {},
     "output_type": "execute_result"
    }
   ],
   "source": [
    "x % 2"
   ]
  },
  {
   "cell_type": "code",
   "execution_count": 23,
   "id": "a131f7de-e6b8-493d-aefb-a4613a5ac6c6",
   "metadata": {},
   "outputs": [
    {
     "name": "stdout",
     "output_type": "stream",
     "text": [
      "<class 'int'>\n"
     ]
    }
   ],
   "source": [
    "print(type(x))"
   ]
  },
  {
   "cell_type": "code",
   "execution_count": 24,
   "id": "c54da3fc-b75d-463e-b46c-e91000f9a0d5",
   "metadata": {},
   "outputs": [
    {
     "name": "stdout",
     "output_type": "stream",
     "text": [
      "30\n"
     ]
    }
   ],
   "source": [
    "x = 10\n",
    "y = 20\n",
    "print(x+y)"
   ]
  },
  {
   "cell_type": "code",
   "execution_count": 27,
   "id": "a78f6618-9483-4045-a2e2-21d73cdea79e",
   "metadata": {},
   "outputs": [
    {
     "data": {
      "text/plain": [
       "12.5"
      ]
     },
     "execution_count": 27,
     "metadata": {},
     "output_type": "execute_result"
    }
   ],
   "source": [
    "# float\n",
    "x = 12.5\n",
    "x"
   ]
  },
  {
   "cell_type": "code",
   "execution_count": 29,
   "id": "c7af0a42-f908-4f2e-a17a-68cead6254b3",
   "metadata": {},
   "outputs": [
    {
     "name": "stdout",
     "output_type": "stream",
     "text": [
      "<class 'float'>\n"
     ]
    }
   ],
   "source": [
    "#typecasting\n",
    "print(type(x))"
   ]
  },
  {
   "cell_type": "code",
   "execution_count": 30,
   "id": "aa90d402-2411-4fa8-985b-476acd66460b",
   "metadata": {},
   "outputs": [
    {
     "data": {
      "text/plain": [
       "20.0"
      ]
     },
     "execution_count": 30,
     "metadata": {},
     "output_type": "execute_result"
    }
   ],
   "source": [
    "float(y)"
   ]
  },
  {
   "cell_type": "code",
   "execution_count": 37,
   "id": "8ba4b0e3-45d0-4efe-b0fc-c9720df8ae20",
   "metadata": {},
   "outputs": [],
   "source": [
    "# Boolean\n",
    "x1 = True\n",
    "y1 = False\n"
   ]
  },
  {
   "cell_type": "code",
   "execution_count": 38,
   "id": "eedbf693-4a00-4ec4-99fa-26ca6621d0d8",
   "metadata": {},
   "outputs": [
    {
     "data": {
      "text/plain": [
       "bool"
      ]
     },
     "execution_count": 38,
     "metadata": {},
     "output_type": "execute_result"
    }
   ],
   "source": [
    "type(x1)"
   ]
  },
  {
   "cell_type": "code",
   "execution_count": 40,
   "id": "8fce95f3-9aca-4674-8e7e-ac87e622f24a",
   "metadata": {},
   "outputs": [
    {
     "data": {
      "text/plain": [
       "False"
      ]
     },
     "execution_count": 40,
     "metadata": {},
     "output_type": "execute_result"
    }
   ],
   "source": [
    "x1 and y1"
   ]
  },
  {
   "cell_type": "code",
   "execution_count": 41,
   "id": "49007703-094e-4b30-b5f7-6f5fd8d23a0b",
   "metadata": {},
   "outputs": [
    {
     "data": {
      "text/plain": [
       "True"
      ]
     },
     "execution_count": 41,
     "metadata": {},
     "output_type": "execute_result"
    }
   ],
   "source": [
    "x1 or y1"
   ]
  },
  {
   "cell_type": "code",
   "execution_count": 42,
   "id": "3abeba42-06df-4180-882f-f51d098e200d",
   "metadata": {},
   "outputs": [
    {
     "data": {
      "text/plain": [
       "False"
      ]
     },
     "execution_count": 42,
     "metadata": {},
     "output_type": "execute_result"
    }
   ],
   "source": [
    "x1 & y1"
   ]
  },
  {
   "cell_type": "code",
   "execution_count": 34,
   "id": "d0c06c19-9d94-493b-8618-b54380318a3b",
   "metadata": {},
   "outputs": [
    {
     "data": {
      "text/plain": [
       "True"
      ]
     },
     "execution_count": 34,
     "metadata": {},
     "output_type": "execute_result"
    }
   ],
   "source": [
    "#or\n",
    "x1 | y1"
   ]
  },
  {
   "cell_type": "code",
   "execution_count": 43,
   "id": "39ef727d-a519-4f75-9e4e-c122e29923b1",
   "metadata": {},
   "outputs": [
    {
     "name": "stdout",
     "output_type": "stream",
     "text": [
      "rakib\n",
      "<class 'str'>\n"
     ]
    }
   ],
   "source": [
    "#strings\n",
    "name1 = \"rakib\"\n",
    "\n",
    "print(name1)\n",
    "print(type(name1))"
   ]
  },
  {
   "cell_type": "code",
   "execution_count": 44,
   "id": "55727d96-656f-4fa7-a61c-61e09c8cdc53",
   "metadata": {},
   "outputs": [
    {
     "data": {
      "text/plain": [
       "'rakib ratul'"
      ]
     },
     "execution_count": 44,
     "metadata": {},
     "output_type": "execute_result"
    }
   ],
   "source": [
    "name1 + \" \" + \"ratul\""
   ]
  },
  {
   "cell_type": "code",
   "execution_count": 45,
   "id": "8126ebf3-af0f-41f7-9820-0474811b2641",
   "metadata": {},
   "outputs": [
    {
     "data": {
      "text/plain": [
       "'rakib1'"
      ]
     },
     "execution_count": 45,
     "metadata": {},
     "output_type": "execute_result"
    }
   ],
   "source": [
    "name1 + str(1)"
   ]
  },
  {
   "cell_type": "code",
   "execution_count": 50,
   "id": "8512c865-e659-4b59-8096-aa35ee361577",
   "metadata": {},
   "outputs": [
    {
     "data": {
      "text/plain": [
       "(1-2.3j)"
      ]
     },
     "execution_count": 50,
     "metadata": {},
     "output_type": "execute_result"
    }
   ],
   "source": [
    "#complex numbers\n",
    "i = 1.0 - 2.3j\n",
    "i"
   ]
  },
  {
   "cell_type": "code",
   "execution_count": 52,
   "id": "aab4246c-2674-46d7-bf62-405a51f6de51",
   "metadata": {},
   "outputs": [
    {
     "name": "stdout",
     "output_type": "stream",
     "text": [
      "1.0 -2.3\n"
     ]
    }
   ],
   "source": [
    "print(i.real, i.imag)"
   ]
  },
  {
   "cell_type": "code",
   "execution_count": 53,
   "id": "09a1daf0-8c36-4584-bce6-8c9a790fd7ca",
   "metadata": {},
   "outputs": [],
   "source": [
    "#dynamic typing\n",
    "a = 20\n",
    "a = \"ratul\""
   ]
  },
  {
   "cell_type": "code",
   "execution_count": 54,
   "id": "da0f5bf9-11e7-4702-82a6-864250d0cff1",
   "metadata": {},
   "outputs": [
    {
     "data": {
      "text/plain": [
       "'ratul2'"
      ]
     },
     "execution_count": 54,
     "metadata": {},
     "output_type": "execute_result"
    }
   ],
   "source": [
    "a + str(2)"
   ]
  },
  {
   "cell_type": "code",
   "execution_count": 59,
   "id": "68b7c5f9-5c87-45e5-993d-f1b0f7ce48d8",
   "metadata": {},
   "outputs": [
    {
     "name": "stdout",
     "output_type": "stream",
     "text": [
      "The values is: 20\n"
     ]
    }
   ],
   "source": [
    "#string  formatting \n",
    "a = 20\n",
    "print(\"The values is:\", a)"
   ]
  },
  {
   "cell_type": "code",
   "execution_count": 60,
   "id": "735c3607-2e62-4479-8911-c4a3922d67ed",
   "metadata": {},
   "outputs": [
    {
     "name": "stdout",
     "output_type": "stream",
     "text": [
      "the first name here is Rakib and last name is Ratul\n"
     ]
    }
   ],
   "source": [
    "first_name = \"Rakib\"\n",
    "last_name = \"Ratul\"\n",
    "print(\"the first name here is {a} and last name is {b}\".format(a=first_name, b= last_name)) "
   ]
  },
  {
   "cell_type": "code",
   "execution_count": 61,
   "id": "d9c0430e-a17d-491d-9392-9a1132223341",
   "metadata": {},
   "outputs": [
    {
     "name": "stdin",
     "output_type": "stream",
     "text": [
      "Enter a value of number X:  1\n",
      "Enter a value of number Y:  1000\n"
     ]
    },
    {
     "name": "stdout",
     "output_type": "stream",
     "text": [
      "1001\n"
     ]
    }
   ],
   "source": [
    "#input type \n",
    "a = input(\"Enter a value of number X: \")\n",
    "b = input(\"Enter a value of number Y: \")\n",
    "print(int(a) + int(b))"
   ]
  },
  {
   "cell_type": "code",
   "execution_count": null,
   "id": "9621971e-118f-4623-80bd-06bfcc886f3a",
   "metadata": {},
   "outputs": [],
   "source": []
  },
  {
   "cell_type": "code",
   "execution_count": null,
   "id": "89de45ec-5da5-4f05-b9af-cc8315a90dcc",
   "metadata": {},
   "outputs": [],
   "source": []
  }
 ],
 "metadata": {
  "kernelspec": {
   "display_name": "Python 3 (ipykernel)",
   "language": "python",
   "name": "python3"
  },
  "language_info": {
   "codemirror_mode": {
    "name": "ipython",
    "version": 3
   },
   "file_extension": ".py",
   "mimetype": "text/x-python",
   "name": "python",
   "nbconvert_exporter": "python",
   "pygments_lexer": "ipython3",
   "version": "3.11.7"
  }
 },
 "nbformat": 4,
 "nbformat_minor": 5
}
