{
 "cells": [
  {
   "cell_type": "markdown",
   "id": "00111d57-34ed-4659-89ae-781b6bfac914",
   "metadata": {},
   "source": [
    "### Tutorial 5 - Python number methods"
   ]
  },
  {
   "cell_type": "markdown",
   "id": "9bb178dd-8510-49dd-92a4-29263fab6efa",
   "metadata": {},
   "source": [
    "### abs()\n",
    "abs(x) will return the absolute value"
   ]
  },
  {
   "cell_type": "code",
   "execution_count": 1,
   "id": "975800f7-7faa-4253-b80d-43d325c9e53e",
   "metadata": {},
   "outputs": [
    {
     "data": {
      "text/plain": [
       "10"
      ]
     },
     "execution_count": 1,
     "metadata": {},
     "output_type": "execute_result"
    }
   ],
   "source": [
    "abs(10)"
   ]
  },
  {
   "cell_type": "code",
   "execution_count": 2,
   "id": "7afae4db-bd67-45ad-af74-6ca454a5e668",
   "metadata": {},
   "outputs": [
    {
     "data": {
      "text/plain": [
       "20"
      ]
     },
     "execution_count": 2,
     "metadata": {},
     "output_type": "execute_result"
    }
   ],
   "source": [
    "abs(-20)"
   ]
  },
  {
   "cell_type": "code",
   "execution_count": 3,
   "id": "20b7dc12-ac81-41dd-aed9-927331b646a1",
   "metadata": {},
   "outputs": [
    {
     "data": {
      "text/plain": [
       "34.2"
      ]
     },
     "execution_count": 3,
     "metadata": {},
     "output_type": "execute_result"
    }
   ],
   "source": [
    "abs(34.20)"
   ]
  },
  {
   "cell_type": "code",
   "execution_count": 4,
   "id": "1d34f1d3-cab3-49a5-8865-f6899641bf11",
   "metadata": {},
   "outputs": [
    {
     "data": {
      "text/plain": [
       "44.23"
      ]
     },
     "execution_count": 4,
     "metadata": {},
     "output_type": "execute_result"
    }
   ],
   "source": [
    "abs(-44.23)"
   ]
  },
  {
   "cell_type": "markdown",
   "id": "cd27546f-a15f-4eb9-83cf-344d62aea957",
   "metadata": {},
   "source": [
    "### ceil() but its need MATH module to execute\n",
    "\n",
    "### floor, exp, fabs, log, max(), min(), pow(), sqrt(), "
   ]
  },
  {
   "cell_type": "code",
   "execution_count": 5,
   "id": "588fb3c9-0609-4402-abd2-36e2fcb52a9b",
   "metadata": {},
   "outputs": [],
   "source": [
    "import math"
   ]
  },
  {
   "cell_type": "code",
   "execution_count": 6,
   "id": "3766f9ec-645b-4316-9d55-b03225d57864",
   "metadata": {},
   "outputs": [
    {
     "data": {
      "text/plain": [
       "26"
      ]
     },
     "execution_count": 6,
     "metadata": {},
     "output_type": "execute_result"
    }
   ],
   "source": [
    "math.ceil(25.22)"
   ]
  },
  {
   "cell_type": "code",
   "execution_count": 7,
   "id": "da647d7c-4aa2-4131-9995-2e2ca8266447",
   "metadata": {},
   "outputs": [
    {
     "data": {
      "text/plain": [
       "200"
      ]
     },
     "execution_count": 7,
     "metadata": {},
     "output_type": "execute_result"
    }
   ],
   "source": [
    "math.ceil(199.224)"
   ]
  },
  {
   "cell_type": "code",
   "execution_count": 8,
   "id": "90b4b2fb-7010-4eda-a1c2-1d6f2031573a",
   "metadata": {},
   "outputs": [
    {
     "data": {
      "text/plain": [
       "200"
      ]
     },
     "execution_count": 8,
     "metadata": {},
     "output_type": "execute_result"
    }
   ],
   "source": [
    "math.ceil(199.09)"
   ]
  },
  {
   "cell_type": "code",
   "execution_count": 9,
   "id": "c511fd03-40ab-4638-a0b3-a0c3a22842c0",
   "metadata": {},
   "outputs": [
    {
     "data": {
      "text/plain": [
       "-42"
      ]
     },
     "execution_count": 9,
     "metadata": {},
     "output_type": "execute_result"
    }
   ],
   "source": [
    "math.ceil(-42.5)"
   ]
  },
  {
   "cell_type": "code",
   "execution_count": 10,
   "id": "d2b8ed16-a450-4afb-b45e-6eff72351cf0",
   "metadata": {},
   "outputs": [
    {
     "data": {
      "text/plain": [
       "-57"
      ]
     },
     "execution_count": 10,
     "metadata": {},
     "output_type": "execute_result"
    }
   ],
   "source": [
    "math.floor(-56.5)"
   ]
  },
  {
   "cell_type": "code",
   "execution_count": 11,
   "id": "63bd496a-09cf-4d41-80b6-626f9d538fb2",
   "metadata": {},
   "outputs": [
    {
     "data": {
      "text/plain": [
       "22026.465794806718"
      ]
     },
     "execution_count": 11,
     "metadata": {},
     "output_type": "execute_result"
    }
   ],
   "source": [
    " math.exp(10)"
   ]
  },
  {
   "cell_type": "code",
   "execution_count": 12,
   "id": "d1097028-7ed8-4d88-8ac0-7fb11b28f23c",
   "metadata": {},
   "outputs": [
    {
     "data": {
      "text/plain": [
       "10.0"
      ]
     },
     "execution_count": 12,
     "metadata": {},
     "output_type": "execute_result"
    }
   ],
   "source": [
    "math.fabs(-10)"
   ]
  },
  {
   "cell_type": "code",
   "execution_count": 13,
   "id": "d074544d-8de3-4b8d-bdc6-04d5888e6542",
   "metadata": {},
   "outputs": [
    {
     "data": {
      "text/plain": [
       "2.302585092994046"
      ]
     },
     "execution_count": 13,
     "metadata": {},
     "output_type": "execute_result"
    }
   ],
   "source": [
    "math.log(10)"
   ]
  },
  {
   "cell_type": "code",
   "execution_count": 14,
   "id": "79d6663d-233b-48e1-9907-f338882db322",
   "metadata": {},
   "outputs": [
    {
     "data": {
      "text/plain": [
       "1.6020599913279623"
      ]
     },
     "execution_count": 14,
     "metadata": {},
     "output_type": "execute_result"
    }
   ],
   "source": [
    "math.log10(40)"
   ]
  },
  {
   "cell_type": "code",
   "execution_count": 15,
   "id": "af08e234-ad0e-4221-95e2-74237ef45118",
   "metadata": {},
   "outputs": [
    {
     "data": {
      "text/plain": [
       "151"
      ]
     },
     "execution_count": 15,
     "metadata": {},
     "output_type": "execute_result"
    }
   ],
   "source": [
    "max(14,135,13,151,2)"
   ]
  },
  {
   "cell_type": "code",
   "execution_count": 16,
   "id": "4da01245-01f8-4003-9dc2-c362f9d8fc4e",
   "metadata": {},
   "outputs": [
    {
     "data": {
      "text/plain": [
       "-1"
      ]
     },
     "execution_count": 16,
     "metadata": {},
     "output_type": "execute_result"
    }
   ],
   "source": [
    "min(-1, 2,100)"
   ]
  },
  {
   "cell_type": "code",
   "execution_count": 17,
   "id": "fa324ed2-8e56-4742-8006-63fff2a7afb9",
   "metadata": {},
   "outputs": [
    {
     "data": {
      "text/plain": [
       "3200000.0"
      ]
     },
     "execution_count": 17,
     "metadata": {},
     "output_type": "execute_result"
    }
   ],
   "source": [
    "math.pow(20, 5)"
   ]
  },
  {
   "cell_type": "code",
   "execution_count": 18,
   "id": "f1c4556b-5a38-4220-a65a-fcfae89f7129",
   "metadata": {},
   "outputs": [
    {
     "data": {
      "text/plain": [
       "4.0"
      ]
     },
     "execution_count": 18,
     "metadata": {},
     "output_type": "execute_result"
    }
   ],
   "source": [
    "math.sqrt(16)"
   ]
  },
  {
   "cell_type": "markdown",
   "id": "0ffc7018-b15e-4c26-bc09-6060c7d9b26f",
   "metadata": {},
   "source": [
    "### Trigonometric function"
   ]
  },
  {
   "cell_type": "code",
   "execution_count": 19,
   "id": "f3cf873c-02f1-4690-8183-a4f1ad1fd5cb",
   "metadata": {},
   "outputs": [
    {
     "data": {
      "text/plain": [
       "0.0"
      ]
     },
     "execution_count": 19,
     "metadata": {},
     "output_type": "execute_result"
    }
   ],
   "source": [
    "math.sin(0)\n"
   ]
  },
  {
   "cell_type": "markdown",
   "id": "2c99768d-699f-47cb-8982-564b22663f97",
   "metadata": {},
   "source": [
    "##  hypotenuse\n",
    "hypot()\n",
    "\n",
    "root a ^2 + b^2"
   ]
  },
  {
   "cell_type": "code",
   "execution_count": 20,
   "id": "30996f38-4f1b-4a95-a0fe-cc5d499da87e",
   "metadata": {},
   "outputs": [
    {
     "data": {
      "text/plain": [
       "3.605551275463989"
      ]
     },
     "execution_count": 20,
     "metadata": {},
     "output_type": "execute_result"
    }
   ],
   "source": [
    "math.hypot(2, 3)"
   ]
  },
  {
   "cell_type": "markdown",
   "id": "e284e75e-a354-4062-88f8-d9f0050a54be",
   "metadata": {},
   "source": [
    "## Assignment\n",
    "1. math.modf()\n",
    "\n",
    "2. ### program to check prime numbers\n",
    "3. ### program to check max of 3 numbers"
   ]
  },
  {
   "cell_type": "code",
   "execution_count": 21,
   "id": "03998b77-8b4d-49a2-80e9-0c55db74d137",
   "metadata": {},
   "outputs": [
    {
     "data": {
      "text/plain": [
       "(0.9869999999999948, 113.0)"
      ]
     },
     "execution_count": 21,
     "metadata": {},
     "output_type": "execute_result"
    }
   ],
   "source": [
    "math.modf(113.987)"
   ]
  },
  {
   "cell_type": "code",
   "execution_count": 24,
   "id": "a8f46e9c-3031-4b7c-93f9-b336a72934ba",
   "metadata": {},
   "outputs": [
    {
     "name": "stdin",
     "output_type": "stream",
     "text": [
      "enter a value:  0\n"
     ]
    },
    {
     "name": "stdout",
     "output_type": "stream",
     "text": [
      "0 is not a prime number\n"
     ]
    }
   ],
   "source": [
    "#prime number\n",
    "\n",
    "input_user = int(input(\"enter a value: \"))\n",
    "\n",
    "if input_user > 0:\n",
    "    for i in range(2, int(input_user/2) + 1):\n",
    "        if (input_user % i) == 0:\n",
    "            print(input_user, \"is not a prime number\")\n",
    "            break\n",
    "    else:\n",
    "        print(input_user, \"is a prime number\")\n",
    "            \n",
    "else:\n",
    "    print(input_user, \"is not a prime number\")\n",
    "        "
   ]
  },
  {
   "cell_type": "code",
   "execution_count": null,
   "id": "338fb78a-a293-4b6c-a7f8-dff6c600c6da",
   "metadata": {},
   "outputs": [],
   "source": []
  },
  {
   "cell_type": "code",
   "execution_count": null,
   "id": "466b27e2-3536-4165-aa03-26c27b1650b7",
   "metadata": {},
   "outputs": [],
   "source": []
  },
  {
   "cell_type": "code",
   "execution_count": null,
   "id": "ed84f41d-ab2e-4a74-a2a0-39c98e579984",
   "metadata": {},
   "outputs": [],
   "source": []
  },
  {
   "cell_type": "code",
   "execution_count": null,
   "id": "1de5c818-65eb-42d2-85db-71ca7e8635f2",
   "metadata": {},
   "outputs": [],
   "source": []
  }
 ],
 "metadata": {
  "kernelspec": {
   "display_name": "Python 3 (ipykernel)",
   "language": "python",
   "name": "python3"
  },
  "language_info": {
   "codemirror_mode": {
    "name": "ipython",
    "version": 3
   },
   "file_extension": ".py",
   "mimetype": "text/x-python",
   "name": "python",
   "nbconvert_exporter": "python",
   "pygments_lexer": "ipython3",
   "version": "3.11.7"
  }
 },
 "nbformat": 4,
 "nbformat_minor": 5
}
