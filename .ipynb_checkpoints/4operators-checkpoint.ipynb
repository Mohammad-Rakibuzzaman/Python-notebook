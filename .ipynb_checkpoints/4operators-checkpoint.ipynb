{
 "cells": [
  {
   "cell_type": "markdown",
   "id": "091cc644-8271-43f6-aba7-f2c9c07739f9",
   "metadata": {},
   "source": [
    "### Python operators\n",
    "1. Logical\n",
    "2. Equality\n",
    "3. Comparison\n",
    "4. Arithmetic"
   ]
  },
  {
   "cell_type": "code",
   "execution_count": 7,
   "id": "555b8b65-f46f-4ed5-98b8-2c4cda358f1c",
   "metadata": {},
   "outputs": [
    {
     "data": {
      "text/plain": [
       "bool"
      ]
     },
     "execution_count": 7,
     "metadata": {},
     "output_type": "execute_result"
    }
   ],
   "source": [
    "# Logical operators (not, and, or)\n",
    "\n",
    "type(False)"
   ]
  },
  {
   "cell_type": "code",
   "execution_count": 8,
   "id": "22d8f047-4641-457e-93d4-a9a68452d89f",
   "metadata": {},
   "outputs": [
    {
     "data": {
      "text/plain": [
       "True"
      ]
     },
     "execution_count": 8,
     "metadata": {},
     "output_type": "execute_result"
    }
   ],
   "source": [
    "bool(1)"
   ]
  },
  {
   "cell_type": "code",
   "execution_count": 9,
   "id": "22f4c7d8-822e-4eff-a872-416b2bc69fee",
   "metadata": {},
   "outputs": [],
   "source": [
    "a= True\n",
    "b= False"
   ]
  },
  {
   "cell_type": "code",
   "execution_count": 10,
   "id": "8afcfd40-f172-4627-bcbb-50dd6a2e66d2",
   "metadata": {},
   "outputs": [
    {
     "data": {
      "text/plain": [
       "False"
      ]
     },
     "execution_count": 10,
     "metadata": {},
     "output_type": "execute_result"
    }
   ],
   "source": [
    "True and False"
   ]
  },
  {
   "cell_type": "code",
   "execution_count": 11,
   "id": "97f1bf6a-1047-4ff8-b0d4-bffc121bc3e2",
   "metadata": {},
   "outputs": [
    {
     "data": {
      "text/plain": [
       "True"
      ]
     },
     "execution_count": 11,
     "metadata": {},
     "output_type": "execute_result"
    }
   ],
   "source": [
    "True or False"
   ]
  },
  {
   "cell_type": "code",
   "execution_count": 12,
   "id": "c524030e-948c-4301-9fac-43404324b85a",
   "metadata": {},
   "outputs": [
    {
     "data": {
      "text/plain": [
       "True"
      ]
     },
     "execution_count": 12,
     "metadata": {},
     "output_type": "execute_result"
    }
   ],
   "source": [
    "not False"
   ]
  },
  {
   "cell_type": "code",
   "execution_count": 25,
   "id": "9a1bbd02-c1f0-4053-8370-7f198449407f",
   "metadata": {},
   "outputs": [
    {
     "name": "stdin",
     "output_type": "stream",
     "text": [
      "enter the age:  14\n"
     ]
    },
    {
     "name": "stdout",
     "output_type": "stream",
     "text": [
      "successfully execute them\n"
     ]
    }
   ],
   "source": [
    "age= int(input(\"enter the age: \"))\n",
    "if age<18 or age>=35:\n",
    "    print(\"successfully execute them\")\n",
    "    "
   ]
  },
  {
   "cell_type": "markdown",
   "id": "7087f204-2f6b-4314-90de-920f8a8013b6",
   "metadata": {},
   "source": [
    "### Equality operators(is, is not, ==, !=)"
   ]
  },
  {
   "cell_type": "code",
   "execution_count": 26,
   "id": "e45a68fe-7687-4c4f-903b-602c5f20926d",
   "metadata": {},
   "outputs": [
    {
     "data": {
      "text/plain": [
       "False"
      ]
     },
     "execution_count": 26,
     "metadata": {},
     "output_type": "execute_result"
    }
   ],
   "source": [
    "a = \"ratul\"\n",
    "b = \"ratulz\"\n",
    "\n",
    "a == b"
   ]
  },
  {
   "cell_type": "code",
   "execution_count": 30,
   "id": "b3bf614d-1463-4ad6-a99d-03e1d30b2f75",
   "metadata": {},
   "outputs": [
    {
     "name": "stdin",
     "output_type": "stream",
     "text": [
      "enter the age:  18\n"
     ]
    },
    {
     "name": "stdout",
     "output_type": "stream",
     "text": [
      "You are teenage!\n"
     ]
    }
   ],
   "source": [
    "age = int(input(\"enter the age: \"))\n",
    "if age == 18:\n",
    "    print(\"You are teenage!\")"
   ]
  },
  {
   "cell_type": "code",
   "execution_count": 31,
   "id": "99b8dca3-74c7-4ea9-9fca-b40243e93957",
   "metadata": {},
   "outputs": [
    {
     "name": "stdout",
     "output_type": "stream",
     "text": [
      "2095634979568\n",
      "2095634979568\n"
     ]
    }
   ],
   "source": [
    "a= \"rakib\"\n",
    "b= \"rakib\"\n",
    "print(id(a))\n",
    "print(id(b))"
   ]
  },
  {
   "cell_type": "code",
   "execution_count": 32,
   "id": "a89e2c66-dbef-41d5-92be-befc469f3406",
   "metadata": {},
   "outputs": [
    {
     "data": {
      "text/plain": [
       "True"
      ]
     },
     "execution_count": 32,
     "metadata": {},
     "output_type": "execute_result"
    }
   ],
   "source": [
    "a is b"
   ]
  },
  {
   "cell_type": "code",
   "execution_count": 33,
   "id": "8808441e-aeac-4f7f-8c5a-70b99d5bd3ab",
   "metadata": {},
   "outputs": [
    {
     "data": {
      "text/plain": [
       "False"
      ]
     },
     "execution_count": 33,
     "metadata": {},
     "output_type": "execute_result"
    }
   ],
   "source": [
    "a is not b"
   ]
  },
  {
   "cell_type": "code",
   "execution_count": 34,
   "id": "c7385ac3-2ded-407e-9051-be43f52ebe7e",
   "metadata": {},
   "outputs": [
    {
     "name": "stdout",
     "output_type": "stream",
     "text": [
      "2095627012672\n",
      "2095634876992\n"
     ]
    }
   ],
   "source": [
    "lst= [1, 2, 3]\n",
    "lst1= [1, 2, 3]\n",
    "print(id(lst))\n",
    "print(id(lst1))"
   ]
  },
  {
   "cell_type": "code",
   "execution_count": 35,
   "id": "4560d660-d823-4288-8795-af8e46fad652",
   "metadata": {},
   "outputs": [
    {
     "data": {
      "text/plain": [
       "False"
      ]
     },
     "execution_count": 35,
     "metadata": {},
     "output_type": "execute_result"
    }
   ],
   "source": [
    "lst is lst1"
   ]
  },
  {
   "cell_type": "code",
   "execution_count": 36,
   "id": "32e7bdd7-c590-4463-94c1-84efd5eb9755",
   "metadata": {},
   "outputs": [
    {
     "data": {
      "text/plain": [
       "True"
      ]
     },
     "execution_count": 36,
     "metadata": {},
     "output_type": "execute_result"
    }
   ],
   "source": [
    "lst is not lst1"
   ]
  },
  {
   "cell_type": "code",
   "execution_count": 37,
   "id": "af035827-cdaa-449f-a268-532ae2d93c4f",
   "metadata": {},
   "outputs": [
    {
     "data": {
      "text/plain": [
       "False"
      ]
     },
     "execution_count": 37,
     "metadata": {},
     "output_type": "execute_result"
    }
   ],
   "source": [
    "\"rakib\" == \"rakib \""
   ]
  },
  {
   "cell_type": "markdown",
   "id": "a58a557a-a9fb-4789-bf52-953946c2d410",
   "metadata": {},
   "source": [
    "### Comparison operators(<, <=, >, >=)"
   ]
  },
  {
   "cell_type": "code",
   "execution_count": 45,
   "id": "d669b92b-c212-4748-8c5d-478d3bed85cb",
   "metadata": {},
   "outputs": [
    {
     "name": "stdin",
     "output_type": "stream",
     "text": [
      "Enter the score:  8\n"
     ]
    },
    {
     "name": "stdout",
     "output_type": "stream",
     "text": [
      "pass!\n",
      "congrates allowed!\n"
     ]
    }
   ],
   "source": [
    "score= int(input(\"Enter the score: \"))\n",
    "\n",
    "if score >= 5:\n",
    "    print(\"pass!\")\n",
    "    if score >= 5 and score <= 10:\n",
    "        print(\"congrates allowed!\")\n",
    "    if score > 10:\n",
    "        print(\"sorry above the score not valid :(\")\n",
    "else:\n",
    "     print(\"Try again\")"
   ]
  },
  {
   "cell_type": "markdown",
   "id": "44391188-acb6-4b1b-87ea-ffc9572f1f68",
   "metadata": {},
   "source": [
    "### Arithmetic operators(+, -, *, /, //, %)"
   ]
  },
  {
   "cell_type": "code",
   "execution_count": 46,
   "id": "f79b4406-017f-4df6-bfcf-bf160ed0ec9e",
   "metadata": {},
   "outputs": [
    {
     "data": {
      "text/plain": [
       "49"
      ]
     },
     "execution_count": 46,
     "metadata": {},
     "output_type": "execute_result"
    }
   ],
   "source": [
    "24 + 25"
   ]
  },
  {
   "cell_type": "code",
   "execution_count": 47,
   "id": "2cd323a5-9e63-49ff-9921-8d5013dc17bb",
   "metadata": {},
   "outputs": [
    {
     "data": {
      "text/plain": [
       "-1"
      ]
     },
     "execution_count": 47,
     "metadata": {},
     "output_type": "execute_result"
    }
   ],
   "source": [
    "1 - 2"
   ]
  },
  {
   "cell_type": "code",
   "execution_count": 48,
   "id": "4d4e2355-a4d3-4527-9f05-089a89f5dbf8",
   "metadata": {},
   "outputs": [
    {
     "data": {
      "text/plain": [
       "96"
      ]
     },
     "execution_count": 48,
     "metadata": {},
     "output_type": "execute_result"
    }
   ],
   "source": [
    "48 * 2\n"
   ]
  },
  {
   "cell_type": "code",
   "execution_count": 49,
   "id": "e3075553-2386-4eb4-9e36-7ef443f9f2d7",
   "metadata": {},
   "outputs": [
    {
     "data": {
      "text/plain": [
       "29.5"
      ]
     },
     "execution_count": 49,
     "metadata": {},
     "output_type": "execute_result"
    }
   ],
   "source": [
    "59 / 2"
   ]
  },
  {
   "cell_type": "code",
   "execution_count": 50,
   "id": "96d9cd2f-7e9e-4051-ae1a-71fe064baf12",
   "metadata": {},
   "outputs": [
    {
     "data": {
      "text/plain": [
       "7"
      ]
     },
     "execution_count": 50,
     "metadata": {},
     "output_type": "execute_result"
    }
   ],
   "source": [
    "97 % 10"
   ]
  },
  {
   "cell_type": "code",
   "execution_count": null,
   "id": "30c72ed7-fb4b-42ef-ab20-3a7e537d0778",
   "metadata": {},
   "outputs": [],
   "source": []
  },
  {
   "cell_type": "code",
   "execution_count": null,
   "id": "9f78dd4f-57ea-49cf-a88c-f90c23357a1b",
   "metadata": {},
   "outputs": [],
   "source": []
  },
  {
   "cell_type": "code",
   "execution_count": null,
   "id": "839cf827-52df-45f2-b0e4-923720d56b4b",
   "metadata": {},
   "outputs": [],
   "source": []
  },
  {
   "cell_type": "code",
   "execution_count": null,
   "id": "1644a652-0d8c-4cde-97ba-6c0f1afa6618",
   "metadata": {},
   "outputs": [],
   "source": []
  }
 ],
 "metadata": {
  "kernelspec": {
   "display_name": "Python 3 (ipykernel)",
   "language": "python",
   "name": "python3"
  },
  "language_info": {
   "codemirror_mode": {
    "name": "ipython",
    "version": 3
   },
   "file_extension": ".py",
   "mimetype": "text/x-python",
   "name": "python",
   "nbconvert_exporter": "python",
   "pygments_lexer": "ipython3",
   "version": "3.11.7"
  }
 },
 "nbformat": 4,
 "nbformat_minor": 5
}
